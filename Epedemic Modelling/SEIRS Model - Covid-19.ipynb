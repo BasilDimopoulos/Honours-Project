{
 "cells": [
  {
   "cell_type": "code",
   "execution_count": 1,
   "metadata": {},
   "outputs": [],
   "source": [
    "import numpy as np\n",
    "import matplotlib.pyplot as plt"
   ]
  },
  {
   "cell_type": "code",
   "execution_count": 2,
   "metadata": {},
   "outputs": [],
   "source": [
    "# Python program to implement Runge Kutta method \n",
    "# A sample differential equation \"dy / dx = (x - y)/2\" \n",
    "def suceptible(beta,z,s,e,i,r): \n",
    "    n = s + r + i + r\n",
    "    dsdt = (-(beta * s * i)/n + z*r)\n",
    "    return dsdt\n",
    "\n",
    "def exposed(beta,sigma,s,e,i,r): \n",
    "    n = s + r + i + r\n",
    "    dedt = ((beta * s * i)/n - sigma*e)\n",
    "    return dedt\n",
    "\n",
    "def infected(sigma,gamma,e,i): \n",
    "    didt = (sigma*e - gamma*i)\n",
    "    return didt\n",
    "\n",
    "def recovered(gamma,z,i,r): \n",
    "    drdt = (gamma*i - z*r)\n",
    "    return drdt"
   ]
  },
  {
   "cell_type": "code",
   "execution_count": 66,
   "metadata": {},
   "outputs": [],
   "source": [
    "#initalValues\n",
    "#InfectionRate = 1.95\n",
    "#IncubationRate = 0.066\n",
    "#RecoveryRate = 0.154\n",
    "#ReturnToSusceptibility = 0.154\n",
    "\n",
    "\n",
    "#covid values\n",
    "InfectionRate = 1.95\n",
    "IncubationRate = 0.066\n",
    "RecoveryRate = 0.154\n",
    "ReturnToSusceptibility\n",
    "\n",
    "#initial values\n",
    "initialS = 500\n",
    "initialI = 0\n",
    "initialE = 1\n",
    "initialR = 0\n",
    "\n",
    "totalS = initialS\n",
    "totalI = initialI\n",
    "totalE = initialE\n",
    "totalR = initialR\n",
    "\n",
    "#array\n",
    "sArray = []\n",
    "iArray = []\n",
    "eArray = []\n",
    "rArray = []\n",
    "sArray.append(initialS)\n",
    "rArray.append(initialR)\n",
    "iArray.append(initialI)\n",
    "eArray.append(initialE)\n",
    "\n",
    "for index in range(1,50):\n",
    "    totalS = totalS + suceptible(InfectionRate,ReturnToSusceptibility,totalS,totalE,totalI,totalR)\n",
    "    sArray.append(totalS)\n",
    "    totalE = totalE + exposed(InfectionRate,IncubationRate,totalS,totalE,totalI,totalR)\n",
    "    eArray.append(totalE)\n",
    "    totalI = totalI + infected(IncubationRate,RecoveryRate,totalE,totalI)\n",
    "    iArray.append(totalI)\n",
    "    totalR = totalR + recovered(RecoveryRate,ReturnToSusceptibility,totalI,totalR)\n",
    "    rArray.append(totalR)"
   ]
  },
  {
   "cell_type": "code",
   "execution_count": 67,
   "metadata": {},
   "outputs": [
    {
     "data": {
      "text/plain": [
       "('susepital is:',\n",
       " 13.426609269978645,\n",
       " 'exposed is: ',\n",
       " 305.53839825857085,\n",
       " 'infective is: ',\n",
       " 130.50445886142543,\n",
       " 'recovered is: ',\n",
       " 13.053025649554746)"
      ]
     },
     "execution_count": 67,
     "metadata": {},
     "output_type": "execute_result"
    }
   ],
   "source": [
    "\"susepital is:\", totalS,\"exposed is: \", totalE, \"infective is: \", totalI, \"recovered is: \", totalR"
   ]
  },
  {
   "cell_type": "code",
   "execution_count": 68,
   "metadata": {},
   "outputs": [
    {
     "data": {
      "image/png": "[encoded data removed]",
      "text/plain": [
       "<Figure size 432x288 with 1 Axes>"
      ]
     },
     "metadata": {
      "needs_background": "light"
     },
     "output_type": "display_data"
    }
   ],
   "source": [
    "plt.plot(sArray, label=\"Susceptible\")\n",
    "plt.plot(eArray, label = \"Exposed\")\n",
    "plt.plot(rArray, label = \"Recovered\")\n",
    "plt.plot(iArray, label = \"Infected\")\n",
    "plt.legend()\n",
    "plt.suptitle('Covid -19 Model', fontsize=20)\n",
    "plt.show()"
   ]
  },
  {
   "cell_type": "code",
   "execution_count": null,
   "metadata": {},
   "outputs": [],
   "source": []
  },
  {
   "cell_type": "code",
   "execution_count": null,
   "metadata": {},
   "outputs": [],
   "source": []
  }
 ],
 "metadata": {
  "kernelspec": {
   "display_name": "Python 3",
   "language": "python",
   "name": "python3"
  },
  "language_info": {
   "codemirror_mode": {
    "name": "ipython",
    "version": 3
   },
   "file_extension": ".py",
   "mimetype": "text/x-python",
   "name": "python",
   "nbconvert_exporter": "python",
   "pygments_lexer": "ipython3",
   "version": "3.7.6"
  }
 },
 "nbformat": 4,
 "nbformat_minor": 4
}
